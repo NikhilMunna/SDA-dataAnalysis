{
 "cells": [
  {
   "cell_type": "code",
   "execution_count": 1,
   "metadata": {},
   "outputs": [],
   "source": [
    "# all required imports\n",
    "import pandas as pd \n",
    "import matplotlib.pyplot as plt\n",
    "import seaborn as sns\n",
    "import numpy as np\n",
    "from scipy.stats import norm\n",
    "from sklearn.preprocessing import StandardScaler\n",
    "from scipy import stats\n",
    "import warnings\n",
    "import statistics\n",
    "import math\n",
    "warnings.filterwarnings('ignore')\n",
    "%matplotlib inline\n",
    "pd.set_option('display.max_rows', 500)\n",
    "pd.options.display.max_columns = None"
   ]
  },
  {
   "cell_type": "code",
   "execution_count": 2,
   "metadata": {},
   "outputs": [],
   "source": [
    "collist = ['feature_1', 'feature_2', 'feature_3', 'feature_4', 'feature_5', 'feature_6', 'feature_7', 'feature_8', 'feature_9', 'feature_10', 'feature_11', 'feature_12', 'feature_13', 'feature_14', 'feature_15', 'feature_16', 'feature_17', 'feature_18', 'feature_19', 'feature_20', 'feature_21', 'feature_22', 'feature_23', 'feature_24', 'feature_25', 'feature_26', 'feature_27', 'feature_28', 'feature_29', 'feature_30', 'feature_31', 'feature_32', 'feature_33', 'feature_34', 'feature_35', 'feature_36', 'feature_37', 'feature_38', 'feature_39', 'feature_40', 'feature_41', 'feature_42', 'feature_43', 'feature_44', 'feature_45', 'feature_46', 'feature_47', 'feature_48', 'feature_49', 'feature_50', 'feature_51', 'feature_52', 'feature_53', 'feature_54', 'feature_55', 'feature_56', 'feature_57', 'feature_58', 'feature_59', 'feature_60', 'feature_61', 'feature_62', 'feature_63', 'feature_64', 'feature_65', 'feature_66', 'feature_67', 'feature_68', 'feature_69', 'feature_70', 'feature_71', 'feature_72', 'feature_73', 'feature_74', 'feature_75', 'feature_76', 'feature_77', 'feature_78', 'feature_79', 'feature_80', 'feature_81', 'feature_82', 'feature_83', 'feature_84', 'feature_85', 'feature_86', 'feature_87', 'feature_88', 'feature_89', 'feature_90', 'feature_91', 'feature_92', 'feature_93', 'feature_94', 'feature_95', 'feature_96', 'feature_97', 'feature_98', 'feature_99', 'feature_100', 'feature_101', 'feature_102', 'feature_103', 'feature_104', 'feature_105', 'feature_106', 'feature_107', 'feature_108', 'feature_109', 'feature_110', 'feature_111', 'feature_112', 'feature_113', 'feature_114', 'feature_115', 'feature_116','latitude','longitude']\n",
    "\n",
    "data = pd.read_csv(\"./dataset/default_plus_chromatic_features_1059_tracks (copy).csv\",names = collist) "
   ]
  },
  {
   "cell_type": "code",
   "execution_count": 9,
   "metadata": {},
   "outputs": [
    {
     "name": "stdout",
     "output_type": "stream",
     "text": [
      "<class 'pandas.core.frame.DataFrame'>\n",
      "RangeIndex: 1059 entries, 0 to 1058\n",
      "Columns: 118 entries, feature_1 to longitude\n",
      "dtypes: float64(118)\n",
      "memory usage: 976.4 KB\n"
     ]
    }
   ],
   "source": [
    "data.info()"
   ]
  },
  {
   "cell_type": "code",
   "execution_count": null,
   "metadata": {},
   "outputs": [],
   "source": [
    "data.shape"
   ]
  },
  {
   "cell_type": "code",
   "execution_count": null,
   "metadata": {},
   "outputs": [],
   "source": [
    "\n",
    "data.head()"
   ]
  },
  {
   "cell_type": "code",
   "execution_count": null,
   "metadata": {},
   "outputs": [],
   "source": [
    "data.describe()"
   ]
  },
  {
   "cell_type": "code",
   "execution_count": null,
   "metadata": {},
   "outputs": [],
   "source": [
    "num_cols = data._get_numeric_data().columns\n",
    "print(\"Numerical Columns\",num_cols)\n",
    "cat_cols=list(set(data.columns) - set(num_cols))\n",
    "print(\"Categorical Columns:\",cat_cols)\n",
    "\n"
   ]
  },
  {
   "cell_type": "markdown",
   "metadata": {},
   "source": [
    "### Outliers"
   ]
  },
  {
   "cell_type": "code",
   "execution_count": null,
   "metadata": {},
   "outputs": [],
   "source": [
    "z_scores = np.abs(stats.zscore(data))\n",
    "\n",
    "threshold =3\n",
    "\n",
    "print(np.where(z_scores > 3))"
   ]
  },
  {
   "cell_type": "code",
   "execution_count": null,
   "metadata": {},
   "outputs": [],
   "source": [
    "fig, ax = plt.subplots(figsize=(16,8))\n",
    "ax.scatter(data[\"latitude\"], data[\"longitude\"])\n",
    "ax.set_xlabel('Latitude')\n",
    "ax.set_ylabel('Longitude')"
   ]
  },
  {
   "cell_type": "code",
   "execution_count": null,
   "metadata": {},
   "outputs": [],
   "source": [
    "refined_data = data[(z_scores < 3).all(axis=1)]"
   ]
  },
  {
   "cell_type": "code",
   "execution_count": null,
   "metadata": {},
   "outputs": [],
   "source": [
    "fig, ax = plt.subplots(figsize=(16,8))\n",
    "ax.scatter(refined_data[\"latitude\"], refined_data[\"longitude\"])\n",
    "ax.set_xlabel('Latitude')\n",
    "ax.set_ylabel('Longitude')"
   ]
  },
  {
   "cell_type": "markdown",
   "metadata": {},
   "source": [
    "### IQR \n"
   ]
  },
  {
   "cell_type": "code",
   "execution_count": null,
   "metadata": {},
   "outputs": [],
   "source": [
    "Q1 = data.quantile(0.25)\n",
    "Q3 = data.quantile(0.75)\n",
    "IQR = Q3 - Q1\n",
    "print(IQR)"
   ]
  },
  {
   "cell_type": "code",
   "execution_count": null,
   "metadata": {},
   "outputs": [],
   "source": [
    "# print(data < (Q1 - 1.5 * IQR)) |(data > (Q3 + 1.5 * IQR))"
   ]
  },
  {
   "cell_type": "code",
   "execution_count": null,
   "metadata": {},
   "outputs": [],
   "source": [
    "data_iqr = data[~((data < (Q1 - 1.5 * IQR)) |(data > (Q3 + 1.5 * IQR))).any(axis=1)]"
   ]
  },
  {
   "cell_type": "code",
   "execution_count": null,
   "metadata": {},
   "outputs": [],
   "source": [
    "data_iqr.shape"
   ]
  },
  {
   "cell_type": "code",
   "execution_count": null,
   "metadata": {},
   "outputs": [],
   "source": [
    "fig, ax = plt.subplots(figsize=(16,8))\n",
    "ax.scatter(data_iqr[\"latitude\"], data_iqr[\"longitude\"])\n",
    "ax.set_xlabel('Latitude')\n",
    "ax.set_ylabel('Longitude')"
   ]
  },
  {
   "cell_type": "code",
   "execution_count": 18,
   "metadata": {},
   "outputs": [],
   "source": [
    "import matplotlib\n",
    "from sklearn.model_selection import train_test_split\n",
    "from sklearn.cluster import KMeans\n",
    "\n",
    "X = data.iloc[:, 0:116].values\n",
    "y = data.iloc[:,116:118].values\n",
    "\n",
    "X_train, X_test, y_train, y_test = train_test_split(X, y, test_size=0.20)"
   ]
  },
  {
   "cell_type": "code",
   "execution_count": 19,
   "metadata": {},
   "outputs": [
    {
     "data": {
      "text/plain": [
       "(1059, 2)"
      ]
     },
     "execution_count": 19,
     "metadata": {},
     "output_type": "execute_result"
    }
   ],
   "source": [
    "y\n",
    "y.shape"
   ]
  },
  {
   "cell_type": "markdown",
   "metadata": {},
   "source": [
    "## K-means"
   ]
  },
  {
   "cell_type": "code",
   "execution_count": null,
   "metadata": {},
   "outputs": [],
   "source": [
    "n_clusters = 33\n",
    "kmeans = KMeans(n_clusters=n_clusters, max_iter = 500, algorithm='full')\n",
    "kmeans = kmeans.fit(y)\n",
    "labels = kmeans.predict(y)\n",
    "centroids = kmeans.cluster_centers_\n",
    "print(centroids)\n",
    "print(labels)"
   ]
  },
  {
   "cell_type": "code",
   "execution_count": null,
   "metadata": {},
   "outputs": [],
   "source": [
    "label_color = [matplotlib.cm.nipy_spectral(float(l) /n_clusters) for l in labels]\n",
    "plt.scatter(y[:, 1], y[:, 0], c = label_color, s=25)\n",
    "plt.title(\"Clustered regions by coordinates\")\n",
    "plt.xlabel(\"Longitude\")\n",
    "plt.ylabel(\"Latitude\")\n",
    "\n",
    "plt.figure()"
   ]
  },
  {
   "cell_type": "code",
   "execution_count": null,
   "metadata": {},
   "outputs": [],
   "source": []
  },
  {
   "cell_type": "markdown",
   "metadata": {},
   "source": [
    "### DBSCAN"
   ]
  },
  {
   "cell_type": "code",
   "execution_count": null,
   "metadata": {},
   "outputs": [],
   "source": [
    "\n"
   ]
  },
  {
   "cell_type": "code",
   "execution_count": null,
   "metadata": {},
   "outputs": [],
   "source": [
    "from sklearn.cluster import DBSCAN\n",
    "plt.rcParams[\"figure.figsize\"] = (20,5)\n",
    "\n",
    "dbs = DBSCAN(eps=3, min_samples=2).fit(y)\n",
    "core_samples_mask = np.zeros_like(dbs.labels_, dtype=bool)\n",
    "core_samples_mask[dbs.core_sample_indices_] = True\n",
    "dbs_labels = dbs.labels_\n",
    "\n",
    "n_clusters_ = len(set(dbs_labels)) - (1 if -1 in dbs_labels else 0)\n",
    "n_noise_ = list(dbs_labels).count(-1)\n",
    "print(n_clusters_\n",
    "     )"
   ]
  },
  {
   "cell_type": "code",
   "execution_count": null,
   "metadata": {},
   "outputs": [],
   "source": [
    "unique_labels = set(labels)\n",
    "colors = [plt.cm.Spectral(each)\n",
    "          for each in np.linspace(0, 1, len(unique_labels))]\n",
    "for k, col in zip(unique_labels, colors):\n",
    "    if k == -1:\n",
    "        # Black used for noise.\n",
    "        col = [0, 0, 0, 1]\n",
    "\n",
    "    class_member_mask = (labels == k)\n",
    "\n",
    "    xy = X[class_member_mask & core_samples_mask]\n",
    "    plt.plot(xy[:, 0], xy[:, 1], 'o', markerfacecolor=tuple(col),\n",
    "             markeredgecolor='k', markersize=14)\n",
    "\n",
    "    xy = X[class_member_mask & ~core_samples_mask]\n",
    "    plt.plot(xy[:, 0], xy[:, 1], 'o', markerfacecolor=tuple(col),\n",
    "             markeredgecolor='k', markersize=6)\n",
    "\n",
    "plt.title('Estimated number of clusters: %d' % n_clusters_)\n",
    "plt.show()\n"
   ]
  },
  {
   "cell_type": "markdown",
   "metadata": {},
   "source": [
    "## Factor Analysis"
   ]
  },
  {
   "cell_type": "code",
   "execution_count": null,
   "metadata": {},
   "outputs": [],
   "source": [
    "from factor_analyzer import FactorAnalyzer"
   ]
  },
  {
   "cell_type": "code",
   "execution_count": null,
   "metadata": {},
   "outputs": [],
   "source": [
    "df = df + +0.00001*np.random.rand(1059, 118)\n",
    "fa = FactorAnalyzer(rotation = None)\n",
    "fa.fit(df)\n",
    "# Check Eigenvalues\n",
    "ev, v = fa.get_eigenvalues()\n",
    "ev"
   ]
  },
  {
   "cell_type": "code",
   "execution_count": null,
   "metadata": {},
   "outputs": [],
   "source": [
    "df = df\n",
    "plt.scatter(range(1,df.shape[1]+1),ev)\n",
    "plt.plot(range(1,df.shape[1]+1),ev)\n",
    "plt.title('Scree Plot')\n",
    "plt.xlabel('Factors')\n",
    "plt.ylabel('Eigenvalue')\n",
    "plt.grid()\n",
    "plt.show()"
   ]
  },
  {
   "cell_type": "code",
   "execution_count": null,
   "metadata": {},
   "outputs": [],
   "source": [
    "fa = FactorAnalyzer(n_factors = 20,rotation = \"varimax\")\n",
    "fa.fit(df)\n",
    "       \n"
   ]
  },
  {
   "cell_type": "code",
   "execution_count": null,
   "metadata": {},
   "outputs": [],
   "source": [
    "fa.loadings_"
   ]
  },
  {
   "cell_type": "code",
   "execution_count": null,
   "metadata": {},
   "outputs": [],
   "source": [
    "fa.get_factor_variance()"
   ]
  },
  {
   "cell_type": "markdown",
   "metadata": {},
   "source": [
    "## Graphs\n"
   ]
  },
  {
   "cell_type": "code",
   "execution_count": null,
   "metadata": {},
   "outputs": [],
   "source": [
    "\n",
    "import numpy as np \n",
    "import statsmodels.api as sm \n",
    "import pylab as py \n",
    "  \n",
    "# np.random generates different random numbers \n",
    "# whenever the code is executed \n",
    "# Note: When you execute the same code  \n",
    "# the graph look different than shown below. \n",
    "  \n",
    "# Random data points generated \n",
    "# data_points = np.random.normal(0, 1, 100)     \n",
    "  \n",
    "sm.qqplot(data[\"feature_4\"], line ='45') \n",
    "py.show() "
   ]
  },
  {
   "cell_type": "code",
   "execution_count": null,
   "metadata": {},
   "outputs": [],
   "source": [
    "sm.qqplot(data[\"feature_5\"], line ='45') \n",
    "py.show() "
   ]
  },
  {
   "cell_type": "code",
   "execution_count": null,
   "metadata": {},
   "outputs": [],
   "source": [
    "sm.qqplot(data[\"feature_25\"], line ='45') \n",
    "py.show() "
   ]
  },
  {
   "cell_type": "code",
   "execution_count": null,
   "metadata": {},
   "outputs": [],
   "source": [
    "sm.qqplot(data[\"feature_65\"], line ='45') \n",
    "py.show() "
   ]
  },
  {
   "cell_type": "markdown",
   "metadata": {},
   "source": [
    "## HISTOGRAMS"
   ]
  },
  {
   "cell_type": "code",
   "execution_count": null,
   "metadata": {},
   "outputs": [],
   "source": [
    "plt.hist(data[\"feature_1\"] , bins =100)"
   ]
  },
  {
   "cell_type": "code",
   "execution_count": null,
   "metadata": {},
   "outputs": [],
   "source": [
    "plt.hist(data[\"feature_19\"] , bins =100)"
   ]
  },
  {
   "cell_type": "code",
   "execution_count": null,
   "metadata": {},
   "outputs": [],
   "source": [
    "plt.hist(data[\"feature_63\"] , bins =100)"
   ]
  },
  {
   "cell_type": "code",
   "execution_count": null,
   "metadata": {},
   "outputs": [],
   "source": [
    "plt.hist(data[\"feature_45\"] , bins =100)"
   ]
  },
  {
   "cell_type": "markdown",
   "metadata": {},
   "source": [
    "plt.hist(data[\"feature_38\"] , bins =100)"
   ]
  },
  {
   "cell_type": "markdown",
   "metadata": {},
   "source": [
    "## Pearson Correlation Test\n"
   ]
  },
  {
   "cell_type": "code",
   "execution_count": null,
   "metadata": {},
   "outputs": [],
   "source": [
    "\n",
    "from scipy.stats import pearsonr\n",
    "sample1 = data.sample(frac=0.5, replace=True, random_state=1)\n",
    "sample2 = data.sample(frac=0.5, replace=True, random_state=2)"
   ]
  },
  {
   "cell_type": "code",
   "execution_count": null,
   "metadata": {},
   "outputs": [],
   "source": [
    "corr , p = pearsonr(sample1[\"feature_1\"] ,sample2[\"feature_2\"])"
   ]
  },
  {
   "cell_type": "code",
   "execution_count": null,
   "metadata": {},
   "outputs": [],
   "source": [
    "from scipy.stats import ttest_rel\n",
    "stat, p = ttest_rel(sample1, sample2)\n",
    "if p.all() > 0.05:\n",
    "    print('Probably the same distribution')\n",
    "else:\n",
    "    print('Probably different distributions')"
   ]
  },
  {
   "cell_type": "markdown",
   "metadata": {},
   "source": [
    "Analysis of Variance Test (ANOVA)"
   ]
  },
  {
   "cell_type": "code",
   "execution_count": null,
   "metadata": {},
   "outputs": [],
   "source": [
    "from scipy.stats import f_oneway\n",
    "stat, p = f_oneway(sample1, sample2)\n",
    "# print('stat=%.3f, p=%.3f' % (stat, p))\n",
    "if p.all() > 0.05:\n",
    "    print('Probably the same distribution')\n",
    "else:\n",
    "    print('Probably different distributions')"
   ]
  },
  {
   "cell_type": "markdown",
   "metadata": {},
   "source": [
    "Test for Equal variances"
   ]
  },
  {
   "cell_type": "code",
   "execution_count": null,
   "metadata": {},
   "outputs": [],
   "source": [
    "from scipy.stats import levene\n",
    "\n",
    "levene(sample1[\"feature_1\"],sample2[\"feature_2\"])"
   ]
  },
  {
   "cell_type": "markdown",
   "metadata": {},
   "source": [
    "# Estimators"
   ]
  },
  {
   "cell_type": "code",
   "execution_count": 16,
   "metadata": {},
   "outputs": [
    {
     "name": "stdout",
     "output_type": "stream",
     "text": [
      "(848, 116)\n",
      "(211, 2)\n"
     ]
    }
   ],
   "source": [
    "from sklearn.preprocessing import StandardScaler\n",
    "from sklearn.model_selection import train_test_split\n",
    "\n",
    "Xtrain, Xtest, ytrain, ytest = train_test_split(X, y, test_size=0.8, random_state=1234)\n",
    "\n",
    "X_scaler = StandardScaler().fit(X)\n",
    "\n",
    "\n",
    "scaled_Xtrain = X_scaler.transform(Xtrain)\n",
    "scaler = StandardScaler()\n",
    "scaled_Xtest = X_scaler.transform(Xtest)\n",
    "print(scaled_Xtest.shape)\n",
    "print(ytrain.shape)"
   ]
  },
  {
   "cell_type": "code",
   "execution_count": 5,
   "metadata": {},
   "outputs": [],
   "source": [
    "from sklearn.svm import SVC\n",
    "from sklearn.model_selection import StratifiedKFold\n",
    "\n",
    "from sklearn.feature_selection import RFECV\n",
    "from sklearn.feature_selection import RFE\n",
    "from sklearn.datasets import make_classification\n",
    "from sklearn.ensemble import RandomForestClassifier\n",
    "from sklearn.model_selection import train_test_split\n",
    "from sklearn.model_selection import learning_curve, GridSearchCV\n",
    "# from sklearn.grid_search import ParameterGrid\n",
    "from sklearn.decomposition import PCA\n",
    "from sklearn.linear_model import LogisticRegression"
   ]
  },
  {
   "cell_type": "code",
   "execution_count": 6,
   "metadata": {},
   "outputs": [
    {
     "data": {
      "image/png": "[encoded data removed]",
      "text/plain": [
       "<Figure size 432x288 with 1 Axes>"
      ]
     },
     "metadata": {
      "needs_background": "light"
     },
     "output_type": "display_data"
    }
   ],
   "source": [
    "PCA_var = PCA(n_components = X_scaler.transform(X).shape[1])\n",
    "PCA_var.fit(X_scaler.transform(X))\n",
    "PCA_var_exp = [1 - x/sum(PCA_var.explained_variance_) for x in PCA_var.explained_variance_]\n",
    "\n",
    "PCA_var_exp.insert(0, 0)\n",
    "\n",
    "plt.figure()\n",
    "plt.title(\"PCA variance explained over number of PCs\")\n",
    "plt.xlabel(\"Number of PCs\")\n",
    "plt.ylabel(\"Ratio of variance explained\")\n",
    "plt.plot(range(0, len(PCA_var_exp), 1), PCA_var_exp, c = 'r')\n",
    "plt.show()"
   ]
  },
  {
   "cell_type": "markdown",
   "metadata": {},
   "source": [
    "## Feature Selection"
   ]
  },
  {
   "cell_type": "code",
   "execution_count": 14,
   "metadata": {},
   "outputs": [
    {
     "ename": "ValueError",
     "evalue": "bad input shape (847, 2)",
     "output_type": "error",
     "traceback": [
      "\u001b[0;31m---------------------------------------------------------------------------\u001b[0m",
      "\u001b[0;31mValueError\u001b[0m                                Traceback (most recent call last)",
      "\u001b[0;32m<ipython-input-14-0155e47a3976>\u001b[0m in \u001b[0;36m<module>\u001b[0;34m\u001b[0m\n\u001b[1;32m     51\u001b[0m \u001b[0;34m\u001b[0m\u001b[0m\n\u001b[1;32m     52\u001b[0m             \u001b[0mrfe\u001b[0m \u001b[0;34m=\u001b[0m \u001b[0mRFE\u001b[0m\u001b[0;34m(\u001b[0m\u001b[0mestimator\u001b[0m \u001b[0;34m=\u001b[0m \u001b[0mestimator_iter\u001b[0m\u001b[0;34m,\u001b[0m \u001b[0mn_features_to_select\u001b[0m\u001b[0;34m=\u001b[0m\u001b[0mn_comps\u001b[0m\u001b[0;34m)\u001b[0m\u001b[0;34m\u001b[0m\u001b[0;34m\u001b[0m\u001b[0m\n\u001b[0;32m---> 53\u001b[0;31m             \u001b[0mrfe\u001b[0m\u001b[0;34m.\u001b[0m\u001b[0mfit\u001b[0m\u001b[0;34m(\u001b[0m\u001b[0mscaled_Xtrain\u001b[0m\u001b[0;34m,\u001b[0m \u001b[0mytrain\u001b[0m\u001b[0;34m)\u001b[0m\u001b[0;34m\u001b[0m\u001b[0;34m\u001b[0m\u001b[0m\n\u001b[0m\u001b[1;32m     54\u001b[0m \u001b[0;34m\u001b[0m\u001b[0m\n\u001b[1;32m     55\u001b[0m             \u001b[0;32mif\u001b[0m \u001b[0;34m(\u001b[0m\u001b[0mrfe\u001b[0m\u001b[0;34m.\u001b[0m\u001b[0mscore\u001b[0m\u001b[0;34m(\u001b[0m\u001b[0mscaled_Xtest\u001b[0m\u001b[0;34m,\u001b[0m \u001b[0mytest\u001b[0m\u001b[0;34m)\u001b[0m \u001b[0;34m>\u001b[0m \u001b[0mrfe_best_model\u001b[0m\u001b[0;34m[\u001b[0m\u001b[0mestimator\u001b[0m\u001b[0;34m]\u001b[0m\u001b[0;34m[\u001b[0m\u001b[0mn_comps\u001b[0m \u001b[0;34m-\u001b[0m \u001b[0;36m1\u001b[0m\u001b[0;34m]\u001b[0m\u001b[0;34m)\u001b[0m\u001b[0;34m:\u001b[0m\u001b[0;34m\u001b[0m\u001b[0;34m\u001b[0m\u001b[0m\n",
      "\u001b[0;32m~/.local/lib/python3.6/site-packages/sklearn/feature_selection/rfe.py\u001b[0m in \u001b[0;36mfit\u001b[0;34m(self, X, y)\u001b[0m\n\u001b[1;32m    142\u001b[0m             \u001b[0mThe\u001b[0m \u001b[0mtarget\u001b[0m \u001b[0mvalues\u001b[0m\u001b[0;34m.\u001b[0m\u001b[0;34m\u001b[0m\u001b[0;34m\u001b[0m\u001b[0m\n\u001b[1;32m    143\u001b[0m         \"\"\"\n\u001b[0;32m--> 144\u001b[0;31m         \u001b[0;32mreturn\u001b[0m \u001b[0mself\u001b[0m\u001b[0;34m.\u001b[0m\u001b[0m_fit\u001b[0m\u001b[0;34m(\u001b[0m\u001b[0mX\u001b[0m\u001b[0;34m,\u001b[0m \u001b[0my\u001b[0m\u001b[0;34m)\u001b[0m\u001b[0;34m\u001b[0m\u001b[0;34m\u001b[0m\u001b[0m\n\u001b[0m\u001b[1;32m    145\u001b[0m \u001b[0;34m\u001b[0m\u001b[0m\n\u001b[1;32m    146\u001b[0m     \u001b[0;32mdef\u001b[0m \u001b[0m_fit\u001b[0m\u001b[0;34m(\u001b[0m\u001b[0mself\u001b[0m\u001b[0;34m,\u001b[0m \u001b[0mX\u001b[0m\u001b[0;34m,\u001b[0m \u001b[0my\u001b[0m\u001b[0;34m,\u001b[0m \u001b[0mstep_score\u001b[0m\u001b[0;34m=\u001b[0m\u001b[0;32mNone\u001b[0m\u001b[0;34m)\u001b[0m\u001b[0;34m:\u001b[0m\u001b[0;34m\u001b[0m\u001b[0;34m\u001b[0m\u001b[0m\n",
      "\u001b[0;32m~/.local/lib/python3.6/site-packages/sklearn/feature_selection/rfe.py\u001b[0m in \u001b[0;36m_fit\u001b[0;34m(self, X, y, step_score)\u001b[0m\n\u001b[1;32m    150\u001b[0m         \u001b[0;31m# self.scores_ will not be calculated when calling _fit through fit\u001b[0m\u001b[0;34m\u001b[0m\u001b[0;34m\u001b[0m\u001b[0;34m\u001b[0m\u001b[0m\n\u001b[1;32m    151\u001b[0m \u001b[0;34m\u001b[0m\u001b[0m\n\u001b[0;32m--> 152\u001b[0;31m         \u001b[0mX\u001b[0m\u001b[0;34m,\u001b[0m \u001b[0my\u001b[0m \u001b[0;34m=\u001b[0m \u001b[0mcheck_X_y\u001b[0m\u001b[0;34m(\u001b[0m\u001b[0mX\u001b[0m\u001b[0;34m,\u001b[0m \u001b[0my\u001b[0m\u001b[0;34m,\u001b[0m \u001b[0;34m\"csc\"\u001b[0m\u001b[0;34m,\u001b[0m \u001b[0mensure_min_features\u001b[0m\u001b[0;34m=\u001b[0m\u001b[0;36m2\u001b[0m\u001b[0;34m)\u001b[0m\u001b[0;34m\u001b[0m\u001b[0;34m\u001b[0m\u001b[0m\n\u001b[0m\u001b[1;32m    153\u001b[0m         \u001b[0;31m# Initialization\u001b[0m\u001b[0;34m\u001b[0m\u001b[0;34m\u001b[0m\u001b[0;34m\u001b[0m\u001b[0m\n\u001b[1;32m    154\u001b[0m         \u001b[0mn_features\u001b[0m \u001b[0;34m=\u001b[0m \u001b[0mX\u001b[0m\u001b[0;34m.\u001b[0m\u001b[0mshape\u001b[0m\u001b[0;34m[\u001b[0m\u001b[0;36m1\u001b[0m\u001b[0;34m]\u001b[0m\u001b[0;34m\u001b[0m\u001b[0;34m\u001b[0m\u001b[0m\n",
      "\u001b[0;32m~/.local/lib/python3.6/site-packages/sklearn/utils/validation.py\u001b[0m in \u001b[0;36mcheck_X_y\u001b[0;34m(X, y, accept_sparse, accept_large_sparse, dtype, order, copy, force_all_finite, ensure_2d, allow_nd, multi_output, ensure_min_samples, ensure_min_features, y_numeric, warn_on_dtype, estimator)\u001b[0m\n\u001b[1;32m    722\u001b[0m                         dtype=None)\n\u001b[1;32m    723\u001b[0m     \u001b[0;32melse\u001b[0m\u001b[0;34m:\u001b[0m\u001b[0;34m\u001b[0m\u001b[0;34m\u001b[0m\u001b[0m\n\u001b[0;32m--> 724\u001b[0;31m         \u001b[0my\u001b[0m \u001b[0;34m=\u001b[0m \u001b[0mcolumn_or_1d\u001b[0m\u001b[0;34m(\u001b[0m\u001b[0my\u001b[0m\u001b[0;34m,\u001b[0m \u001b[0mwarn\u001b[0m\u001b[0;34m=\u001b[0m\u001b[0;32mTrue\u001b[0m\u001b[0;34m)\u001b[0m\u001b[0;34m\u001b[0m\u001b[0;34m\u001b[0m\u001b[0m\n\u001b[0m\u001b[1;32m    725\u001b[0m         \u001b[0m_assert_all_finite\u001b[0m\u001b[0;34m(\u001b[0m\u001b[0my\u001b[0m\u001b[0;34m)\u001b[0m\u001b[0;34m\u001b[0m\u001b[0;34m\u001b[0m\u001b[0m\n\u001b[1;32m    726\u001b[0m     \u001b[0;32mif\u001b[0m \u001b[0my_numeric\u001b[0m \u001b[0;32mand\u001b[0m \u001b[0my\u001b[0m\u001b[0;34m.\u001b[0m\u001b[0mdtype\u001b[0m\u001b[0;34m.\u001b[0m\u001b[0mkind\u001b[0m \u001b[0;34m==\u001b[0m \u001b[0;34m'O'\u001b[0m\u001b[0;34m:\u001b[0m\u001b[0;34m\u001b[0m\u001b[0;34m\u001b[0m\u001b[0m\n",
      "\u001b[0;32m~/.local/lib/python3.6/site-packages/sklearn/utils/validation.py\u001b[0m in \u001b[0;36mcolumn_or_1d\u001b[0;34m(y, warn)\u001b[0m\n\u001b[1;32m    758\u001b[0m         \u001b[0;32mreturn\u001b[0m \u001b[0mnp\u001b[0m\u001b[0;34m.\u001b[0m\u001b[0mravel\u001b[0m\u001b[0;34m(\u001b[0m\u001b[0my\u001b[0m\u001b[0;34m)\u001b[0m\u001b[0;34m\u001b[0m\u001b[0;34m\u001b[0m\u001b[0m\n\u001b[1;32m    759\u001b[0m \u001b[0;34m\u001b[0m\u001b[0m\n\u001b[0;32m--> 760\u001b[0;31m     \u001b[0;32mraise\u001b[0m \u001b[0mValueError\u001b[0m\u001b[0;34m(\u001b[0m\u001b[0;34m\"bad input shape {0}\"\u001b[0m\u001b[0;34m.\u001b[0m\u001b[0mformat\u001b[0m\u001b[0;34m(\u001b[0m\u001b[0mshape\u001b[0m\u001b[0;34m)\u001b[0m\u001b[0;34m)\u001b[0m\u001b[0;34m\u001b[0m\u001b[0;34m\u001b[0m\u001b[0m\n\u001b[0m\u001b[1;32m    761\u001b[0m \u001b[0;34m\u001b[0m\u001b[0m\n\u001b[1;32m    762\u001b[0m \u001b[0;34m\u001b[0m\u001b[0m\n",
      "\u001b[0;31mValueError\u001b[0m: bad input shape (847, 2)"
     ]
    }
   ],
   "source": [
    "from sklearn.svm import SVC\n",
    "from sklearn.model_selection import StratifiedKFold\n",
    "\n",
    "from sklearn.feature_selection import RFECV\n",
    "from sklearn.feature_selection import RFE\n",
    "from sklearn.datasets import make_classification\n",
    "from sklearn.ensemble import RandomForestClassifier\n",
    "from sklearn.model_selection import train_test_split\n",
    "from sklearn.model_selection import learning_curve, ParameterGrid\n",
    "# from sklearn.grid_search import ParameterGrid\n",
    "from sklearn.decomposition import PCA\n",
    "from sklearn.linear_model import LogisticRegression\n",
    "\n",
    "\n",
    "\n",
    "Xtrain, Xtest, ytrain, ytest = train_test_split(X, y, test_size=0.2, random_state=1234)\n",
    "\n",
    "estimators = {}\n",
    "\n",
    "estimators['svc'] = SVC\n",
    "estimators['rfc'] = RandomForestClassifier\n",
    "estimators['logreg'] = LogisticRegression\n",
    "\n",
    "params = {}\n",
    "params['svc'] = {'kernel': ['linear'], 'C': [10**x for x in range(-1, 3, 1)], \n",
    "                 'gamma': [10**x for x in range(-1, 2, 1)], \n",
    "                'random_state': [1234]}\n",
    "params['rfc'] = {'n_estimators': [5*x for x in range(3, 5, 1)]}\n",
    "\n",
    "params['logreg'] = {'C': [10**x for x in range(-1, 3, 1)], 'penalty': ['l1', 'l2']}\n",
    "\n",
    "rfe_best_model = {}\n",
    "pca_best_model = {}\n",
    "                          \n",
    "\n",
    "for i, estimator in enumerate(estimators):\n",
    "    model_params = ParameterGrid(params[estimator])\n",
    "    grid = model_params\n",
    "    \n",
    "    rfe_best_model[estimator] = []\n",
    "    pca_best_model[estimator] = []\n",
    "    \n",
    "    for n_comps in range(1, scaled_Xtrain.shape[1], 1):\n",
    "        rfe_best_model[estimator].append(0)\n",
    "        pca_best_model[estimator].append(0)\n",
    "            \n",
    "        for params_combo in grid:\n",
    "        \n",
    "            estimator_iter = estimators[estimator]\n",
    "            estimator_iter = estimator_iter(**params_combo)\n",
    "\n",
    "            rfe = RFE(estimator = estimator_iter, n_features_to_select=n_comps)\n",
    "            rfe.fit(scaled_Xtrain, ytrain)\n",
    "\n",
    "            if (rfe.score(scaled_Xtest, ytest) > rfe_best_model[estimator][n_comps - 1]):\n",
    "                rfe_best_model[estimator][n_comps - 1] = rfe.score(scaled_Xtest, ytest)\n",
    "                \n",
    "            PCA_model = PCA(n_components = n_comps)\n",
    "            PCA_model.fit(scaled_Xtrain)\n",
    "            PCA_Xtrain = PCA_model.transform(scaled_Xtrain)\n",
    "            PCA_Xtest = PCA_model.transform(scaled_Xtest)\n",
    "            \n",
    "            estimator_iter.fit(PCA_Xtrain, ytrain)\n",
    "            \n",
    "            if (estimator_iter.score(PCA_Xtest, ytest) > pca_best_model[estimator][n_comps - 1]):\n",
    "                pca_best_model[estimator][n_comps - 1] = estimator_iter.score(PCA_Xtest, ytest)\n",
    "\n",
    "    plt.figure()\n",
    "    plt.xlabel(\"%s - Number of features selected\" % estimator)\n",
    "    plt.ylabel(\"Accuracy score\")\n",
    "    plt.plot(range(1, len(pca_best_model[estimator]) + 1, 1), pca_best_model[estimator], c = 'r')\n",
    "    plt.plot(range(1, len(rfe_best_model[estimator]) + 1, 1), rfe_best_model[estimator], c = 'b')\n",
    "    plt.show()"
   ]
  },
  {
   "cell_type": "code",
   "execution_count": null,
   "metadata": {},
   "outputs": [],
   "source": [
    "rfe_best_model_2 = {}\n",
    "pca_best_model_2 = {}\n",
    "\n",
    "rfe_best_model_2['svc'] = []\n",
    "rfe_best_model_2['rfc'] = []\n",
    "rfe_best_model_2['logreg'] = []\n",
    "\n",
    "accuracies = {}\n",
    "\n",
    "accuracies['svc'] = [0]\n",
    "accuracies['rfc'] = [0]\n",
    "\n",
    "accuracies['logreg'] = [0]\n",
    "\n",
    "features = {}\n",
    "\n",
    "features['svc'] = []\n",
    "features['rfc'] = []\n",
    "features['logreg'] = []\n",
    "\n",
    "estimator_list = []\n",
    "\n",
    "n_comps = 20\n",
    "                          \n",
    "for i, estimator in enumerate(estimators):\n",
    "    \n",
    "    estimator_list.append(estimator)\n",
    "    model_params = ParameterGrid(params[estimator])\n",
    "    grid = model_params\n",
    "    \n",
    "    rfe_best_model_2[estimator] = []\n",
    "    \n",
    "    rfe_best_model_2[estimator].append(0)\n",
    "    #pca_best_model_2[estimator].append(0)\n",
    "\n",
    "    for params_combo in grid:\n",
    "        estimator_iter = estimators[estimator]\n",
    "        estimator_iter = estimator_iter(**params_combo)\n",
    "\n",
    "        rfe = RFE(estimator = estimator_iter, n_features_to_select=n_comps)\n",
    "        rfe.fit(scaled_Xtrain, ytrain)\n",
    "\n",
    "        if (rfe.score(scaled_Xtest, ytest) > accuracies[estimator][0]):\n",
    "            accuracies[estimator][0] = [rfe.score(scaled_Xtest, ytest)]\n",
    "            features[estimator] = rfe.support_\n"
   ]
  },
  {
   "cell_type": "code",
   "execution_count": null,
   "metadata": {},
   "outputs": [],
   "source": [
    "import pandas as pd\n",
    "\n",
    "est_columns = ['SVC','RFC','Log_Reg'] \n",
    "est_index = ['feature_%d'%i for i in range(0,len(features['svc']))]\n",
    "\n",
    "# display format as scientific \n",
    "pd.options.display.float_format = '{:,.4g}'.format\n",
    "est_df = pd.DataFrame(index=est_index, columns=est_columns)\n",
    "est_df\n",
    "\n",
    "for i in range(0, len(features['svc'])):\n",
    "    est_df.iloc[i, 0] = features['svc'][i]\n",
    "    est_df.iloc[i, 1] = features['rfc'][i]\n",
    "    est_df.iloc[i, 2] = features['logreg'][i]\n",
    "    \n",
    "print('Features used by any Estimator')\n",
    "est_df[est_df['SVC'] | est_df['RFC'] | est_df['Log_Reg']]"
   ]
  },
  {
   "cell_type": "code",
   "execution_count": null,
   "metadata": {},
   "outputs": [],
   "source": [
    "print('Features used by all Estimators')\n",
    "est_df[est_df['SVC'] & est_df['RFC'] & est_df['Log_Reg']]"
   ]
  },
  {
   "cell_type": "code",
   "execution_count": null,
   "metadata": {},
   "outputs": [],
   "source": [
    "from sklearn.feature_selection import RFE\n",
    "\n",
    "Xtrain, Xtest, ytrain, ytest = train_test_split(X, y, test_size=0.8, random_state=1234)\n",
    "\n",
    "rfc = RandomForestClassifier(n_estimators=35)\n",
    "\n",
    "rfe = RFE(estimator = rfc, n_features_to_select=20)\n",
    "rfe.fit(Xtrain, ytrain)\n",
    "X_reduced = rfe.transform(X)\n",
    "\n",
    "Xtrain, Xtest, ytrain, ytest = train_test_split(X_reduced, y, test_size=0.8, random_state=1234)"
   ]
  },
  {
   "cell_type": "code",
   "execution_count": null,
   "metadata": {},
   "outputs": [],
   "source": [
    "X_reduced.shape"
   ]
  },
  {
   "cell_type": "markdown",
   "metadata": {},
   "source": [
    "## Model Building"
   ]
  },
  {
   "cell_type": "code",
   "execution_count": null,
   "metadata": {},
   "outputs": [],
   "source": [
    "from sklearn.model_selection import cross_val_score\n",
    "from sklearn.neighbors import KNeighborsClassifier\n",
    "\n",
    "estimators = {}\n",
    "\n",
    "estimators['svc'] = SVC\n",
    "estimators['rfc'] = RandomForestClassifier\n",
    "estimators['knn'] = KNeighborsClassifier\n",
    "# estimators['logreg'] = LogisticRegression\n",
    "\n",
    "params = {}\n",
    "params['svc'] = {'kernel': ['linear'], 'C': [10**x for x in range(-2, 3, 1)], \n",
    "                 'gamma': [10**x for x in range(-2, 3, 1)], \n",
    "                'random_state': [1234]}\n",
    "params['rfc'] = {'n_estimators': [5*x for x in range(1, 8, 1)]}\n",
    "\n",
    "params['knn'] = {'n_neighbors': range(1, 15, 1), 'p': [1, 2]}\n",
    "# params['logreg'] = {'C': [10**x for x in range(-1, 3, 1)], 'penalty': ['l1', 'l2']}\n",
    "\n",
    "best_model = {}\n",
    "\n",
    "for i, estimator in enumerate(estimators):\n",
    "    model_params = ParameterGrid(params[estimator])\n",
    "    grid = model_params\n",
    "    \n",
    "    best_model[estimator] = [0]\n",
    "    \n",
    "    for params_combo in grid:\n",
    "        \n",
    "        estimator_iter = estimators[estimator]\n",
    "        estimator_iter = estimator_iter(**params_combo)\n",
    "            \n",
    "        estimator_iter.fit(Xtrain, ytrain)\n",
    "        scores = cross_val_score(estimator_iter, Xtrain, ytrain, cv = 10, scoring='accuracy') # smallest class has 2 members\n",
    "        \n",
    "        if (scores.mean() > best_model[estimator][0]):\n",
    "            best_model[estimator] = [scores.mean(), estimator_iter.get_params]\n",
    "\n",
    "    print(\"For %s the best cv accuracy score is %s\" % (estimator, best_model[estimator][0]))"
   ]
  },
  {
   "cell_type": "markdown",
   "metadata": {},
   "source": [
    "## Reclustering"
   ]
  },
  {
   "cell_type": "code",
   "execution_count": null,
   "metadata": {},
   "outputs": [],
   "source": [
    "with open('../data/default_features_1059_tracks.txt', newline='') as inputfile:\n",
    "    data = list(csv.reader(inputfile))\n",
    "    \n",
    "data = np.asarray(data)\n",
    "data.shape\n",
    "\n",
    "y_coords = data[:, 68:70]\n",
    "y_coords = y_coords.astype(dtype = np.float)\n",
    "\n",
    "n_clusters = range(2, 33, 1)\n",
    "\n",
    "accuracies = {'svc':[], 'rfc':[], 'knn':[]}\n",
    "\n",
    "for n in n_clusters:\n",
    "    kmeans = KMeans(n_clusters=n, max_iter = 300, algorithm='full')\n",
    "    kmeans = kmeans.fit(y_coords)\n",
    "    labels = kmeans.predict(y_coords)\n",
    "    \n",
    "    Xtrain, Xtest, ytrain, ytest = train_test_split(X, labels, test_size=0.8, random_state=1234)\n",
    "\n",
    "    best_model = {}\n",
    "\n",
    "    for i, estimator in enumerate(estimators):\n",
    "        model_params = ParameterGrid(params[estimator])\n",
    "        grid = model_params\n",
    "\n",
    "        best_model[estimator] = [0]\n",
    "        #accuracies[estimator] = []\n",
    "\n",
    "        for params_combo in grid:\n",
    "\n",
    "            estimator_iter = estimators[estimator]\n",
    "            estimator_iter = estimator_iter(**params_combo)\n",
    "\n",
    "            #estimator_iter.fit(Xtrain, ytrain)\n",
    "            scores = cross_val_score(estimator_iter, Xtrain, ytrain, cv = 10, scoring='accuracy') # smallest class has 2 members\n",
    "\n",
    "            if (scores.mean() > best_model[estimator][0]):\n",
    "                best_model[estimator] = [scores.mean(), estimator_iter.get_params]\n",
    "\n",
    "        accuracies[estimator].append(best_model[estimator][0])"
   ]
  },
  {
   "cell_type": "code",
   "execution_count": null,
   "metadata": {},
   "outputs": [],
   "source": [
    "plt.figure()\n",
    "plt.xlabel(\"Number of clusters\")\n",
    "plt.ylabel(\"Mean cross validation score\")\n",
    "plt.title(\"Accuracy for different number of location clusters\")\n",
    "plt.plot(range(2, len(accuracies['knn']) + 2),accuracies['knn'], c = 'r')\n",
    "plt.plot(range(2, len(accuracies['svc']) + 2),accuracies['svc'], c = 'b')\n",
    "plt.plot(range(2, len(accuracies['rfc']) + 2),accuracies['rfc'], c = 'g')\n",
    "plt.show()"
   ]
  },
  {
   "cell_type": "code",
   "execution_count": null,
   "metadata": {},
   "outputs": [],
   "source": [
    "with open('../data/default_features_1059_tracks.txt', newline='') as inputfile:\n",
    "    data = list(csv.reader(inputfile))\n",
    "    \n",
    "data = np.asarray(data)\n",
    "data.shape\n",
    "\n",
    "y_coords = data[:, 68:70]\n",
    "y_coords = y_coords.astype(dtype = np.float)\n",
    "\n",
    "n_clusters = 7\n",
    "kmeans = KMeans(n_clusters=n_clusters, max_iter = 500, algorithm='full')\n",
    "kmeans = kmeans.fit(y_coords)\n",
    "labels = kmeans.predict(y_coords)\n",
    "\n",
    "#print('Centroids')\n",
    "centroids = kmeans.cluster_centers_\n",
    "#print(centroids)\n",
    "\n",
    "plt.style.use('ggplot')\n",
    "label_color = [matplotlib.cm.nipy_spectral(float(l) /n_clusters) for l in labels]\n",
    "plt.scatter(y_coords[:, 1], y_coords[:, 0], c = label_color, s=25)\n",
    "plt.title(\"Clustered regions by coordinates\")\n",
    "plt.xlabel(\"Longitude\")\n",
    "plt.ylabel(\"Latitude\")\n",
    "\n",
    "plt.figure()"
   ]
  },
  {
   "cell_type": "code",
   "execution_count": null,
   "metadata": {},
   "outputs": [],
   "source": [
    "best_model"
   ]
  },
  {
   "cell_type": "code",
   "execution_count": null,
   "metadata": {},
   "outputs": [],
   "source": [
    "with open('../data/default_features_1059_tracks.txt', newline='') as inputfile:\n",
    "    data = list(csv.reader(inputfile))\n",
    "    \n",
    "data = np.asarray(data)\n",
    "data.shape\n",
    "\n",
    "y_coords = data[:, 68:70]\n",
    "y_coords = y_coords.astype(dtype = np.float)\n",
    "\n",
    "n_clusters = 7\n",
    "\n",
    "accuracies = {'svc':[], 'rfc':[], 'knn':[]}\n",
    "\n",
    "kmeans = KMeans(n_clusters=n_clusters, max_iter = 300, algorithm='full')\n",
    "kmeans = kmeans.fit(y_coords)\n",
    "labels = kmeans.predict(y_coords)\n",
    "\n",
    "Xtrain, Xtest, ytrain, ytest = train_test_split(X_reduced, labels, test_size=0.8, random_state=1234)\n",
    "\n",
    "best_model = {}\n",
    "\n",
    "for i, estimator in enumerate(estimators):\n",
    "    model_params = ParameterGrid(params[estimator])\n",
    "    grid = model_params\n",
    "\n",
    "    best_model[estimator] = [0]\n",
    "    #accuracies[estimator] = []\n",
    "\n",
    "    for params_combo in grid:\n",
    "\n",
    "        estimator_iter = estimators[estimator]\n",
    "        estimator_iter = estimator_iter(**params_combo)\n",
    "        estimator_iter.fit(Xtrain, ytrain)\n",
    "        #estimator_iter.fit(Xtrain, ytrain)\n",
    "        scores = cross_val_score(estimator_iter, Xtest, ytest, cv = 10, scoring='accuracy') # smallest class has 2 members\n",
    "\n",
    "        if (scores.mean() > best_model[estimator][0]):\n",
    "            best_model[estimator] = [scores.mean(), estimator_iter.get_params, estimator_iter.predict(Xtest)]\n",
    "            best_model[estimator].append(params_combo)\n",
    "\n",
    "    accuracies[estimator].append(best_model[estimator][0])"
   ]
  },
  {
   "cell_type": "code",
   "execution_count": null,
   "metadata": {},
   "outputs": [],
   "source": [
    "acc_index = ['Accuracy Score', 'parameters', 'parameter values'] \n",
    "acc_columns = ['SVC', 'Random Forest', 'KNN']\n",
    "\n",
    "# display format as scientific \n",
    "pd.options.display.float_format = '{:,.4g}'.format\n",
    "acc_df = pd.DataFrame(index=acc_index, columns=acc_columns)\n",
    "#est_df\n",
    "\n",
    "acc_df.iloc[0, 0] = best_model['svc'][0]\n",
    "acc_df.iloc[0, 1] = best_model['rfc'][0]\n",
    "acc_df.iloc[0, 2] = best_model['knn'][0]\n",
    "acc_df.iloc[1, 0] = list(best_model['svc'][3])\n",
    "acc_df.iloc[1, 1] = list(best_model['rfc'][3])\n",
    "acc_df.iloc[1, 2] = list(best_model['knn'][3])\n",
    "acc_df.iloc[2, 0] = list(best_model['svc'][3].values())\n",
    "acc_df.iloc[2, 1] = list(best_model['rfc'][3].values())\n",
    "acc_df.iloc[2, 2] = list(best_model['knn'][3].values())\n",
    "\n",
    "acc_df"
   ]
  },
  {
   "cell_type": "code",
   "execution_count": null,
   "metadata": {},
   "outputs": [],
   "source": [
    "plt.style.use('ggplot')\n",
    "label_color = [matplotlib.cm.nipy_spectral(float(l) /n_clusters) for l in best_model['svc'][2]]\n",
    "plt.scatter(y_coords[:, 1], y_coords[:, 0], c = label_color, s=25)\n",
    "plt.title(\"Clustered regions by SVC classification (Accuracy score: %s)\" % best_model['svc'][0])\n",
    "plt.xlabel(\"Longitude\")\n",
    "plt.ylabel(\"Latitude\")\n",
    "\n",
    "plt.figure()"
   ]
  },
  {
   "cell_type": "code",
   "execution_count": null,
   "metadata": {},
   "outputs": [],
   "source": [
    "plt.style.use('ggplot')\n",
    "label_color = [matplotlib.cm.nipy_spectral(float(l) /n_clusters) for l in best_model['knn'][2]]\n",
    "plt.scatter(y_coords[:, 1], y_coords[:, 0], c = label_color, s=25)\n",
    "plt.title(\"Clustered regions by KNN classification (Accuracy score: %s)\" % best_model['knn'][0])\n",
    "plt.xlabel(\"Longitude\")\n",
    "plt.ylabel(\"Latitude\")\n",
    "\n",
    "plt.figure()"
   ]
  },
  {
   "cell_type": "code",
   "execution_count": null,
   "metadata": {},
   "outputs": [],
   "source": [
    "plt.style.use('ggplot')\n",
    "label_color = [matplotlib.cm.nipy_spectral(float(l) /n_clusters) for l in best_model['rfc'][2]]\n",
    "plt.scatter(y_coords[:, 1], y_coords[:, 0], c = label_color, s=25)\n",
    "plt.title(\"Clustered regions by Random Forest classification (Accuracy score: %s)\" % best_model['rfc'][0])\n",
    "plt.xlabel(\"Longitude\")\n",
    "plt.ylabel(\"Latitude\")\n",
    "\n",
    "plt.figure()"
   ]
  },
  {
   "cell_type": "code",
   "execution_count": null,
   "metadata": {},
   "outputs": [],
   "source": [
    "# import pandas as pd\n",
    "\n",
    "results_columns = ['Geo', 'SVC','RFC','KNN'] \n",
    "results_index = ['obs_%d'%i for i in range(0,len(best_model['svc'][2]))]\n",
    "\n",
    "# display format as scientific \n",
    "pd.options.display.float_format = '{:,.4g}'.format\n",
    "results_df = pd.DataFrame(index=results_index, columns=results_columns)\n",
    "results_df\n",
    "\n",
    "for i in range(0, len(best_model['svc'][2])):\n",
    "    results_df.iloc[i, 0] = ytest[i]\n",
    "    results_df.iloc[i, 1] = best_model['svc'][2][i]\n",
    "    results_df.iloc[i, 2] = best_model['rfc'][2][i]\n",
    "    results_df.iloc[i, 3] = best_model['knn'][2][i]\n",
    "    \n",
    "correct_columns = ['SVC', 'RFC', 'KNN']\n",
    "correct_index = ['Correct', 'Incorrect']\n",
    "\n",
    "pd.options.display.float_format = '{:,.4g}'.format\n",
    "correct_df = pd.DataFrame(index=correct_index, columns=correct_columns)\n",
    "correct_df\n",
    "\n",
    "for i in range(0, 3, 1):\n",
    "    correct_df.iloc[0, i] = len(results_df[results_df['Geo'] == results_df.iloc[:, i+1]])\n",
    "    correct_df.iloc[1, i] = len(results_df[results_df['Geo'] != results_df.iloc[:, i+1]])\n",
    "    \n",
    "correct_df"
   ]
  },
  {
   "cell_type": "code",
   "execution_count": null,
   "metadata": {},
   "outputs": [],
   "source": [
    "# from sklearn.ensemble import ExtraTreesClassifier\n",
    "# from sklearn.ensemble import BaggingClassifier\n",
    "# # from sklearn.ensemble import RidgeClassifier\n",
    "# from sklearn.linear_model import RidgeClassifier\n",
    "# # Create classifiers\n",
    "# seed = 1234\n",
    "# rf = RandomForestClassifier()\n",
    "# et = ExtraTreesClassifier()\n",
    "# knn = KNeighborsClassifier()\n",
    "# svc = SVC()\n",
    "# rg = RidgeClassifier()\n",
    "# clf_array = [rf, et, knn, svc]\n",
    "# for clf in clf_array:\n",
    "#     vanilla_scores = cross_val_score(clf, Xtest, ytest, cv=10, n_jobs=-1)\n",
    "#     bagging_clf = BaggingClassifier(clf,max_samples=0.4, max_features=10, random_state=seed)\n",
    "#     bagging_scores = cross_val_score(bagging_clf, X, y, cv=10,n_jobs=-1)\n",
    "    \n",
    "#     print (\"Mean of: {1:.3f}, std: (+/-) {2:.3f} [{0}]\".format(clf.__class__.__name__, vanilla_scores.mean(), vanilla_scores.std()))\n",
    "#     print (\"Mean of: {1:.3f}, std: (+/-) {2:.3f} [Bagging {0}]\\n\".format(clf.__class__.__name__,bagging_scores.mean(), bagging_scores.std()))"
   ]
  },
  {
   "cell_type": "code",
   "execution_count": null,
   "metadata": {},
   "outputs": [],
   "source": [
    "from sklearn.ensemble import BaggingClassifier\n",
    "from sklearn.tree import DecisionTreeClassifier\n",
    "kfold = model_selection.KFold(n_splits=20,random_state=10)\n",
    "cart = DecisionTreeClassifier()\n",
    "num_trees = 200\n",
    "model = BaggingClassifier(base_estimator=cart, n_estimators=num_trees, random_state=10)\n",
    "results = model_selection.cross_val_score(model, Xtest, ytest, cv=kfold)\n",
    "print(results.mean())"
   ]
  },
  {
   "cell_type": "code",
   "execution_count": null,
   "metadata": {},
   "outputs": [],
   "source": []
  }
 ],
 "metadata": {
  "kernelspec": {
   "display_name": "Python 3",
   "language": "python",
   "name": "python3"
  },
  "language_info": {
   "codemirror_mode": {
    "name": "ipython",
    "version": 3
   },
   "file_extension": ".py",
   "mimetype": "text/x-python",
   "name": "python",
   "nbconvert_exporter": "python",
   "pygments_lexer": "ipython3",
   "version": "3.6.8"
  }
 },
 "nbformat": 4,
 "nbformat_minor": 2
}
