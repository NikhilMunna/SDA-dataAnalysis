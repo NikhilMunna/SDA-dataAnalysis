{
 "cells": [
  {
   "cell_type": "code",
   "execution_count": 43,
   "metadata": {},
   "outputs": [],
   "source": [
    "from sklearn.tree import DecisionTreeClassifier\n",
    "\n",
    "import sklearn\n",
    "import csv\n",
    "\n",
    "from sklearn.metrics import accuracy_score\n",
    "\n",
    "clf = DecisionTreeClassifier(random_state=0)\n",
    "\n",
    "# with open('dataset/default_features_1059_tracks.txt', newline='') as inputfile:\n",
    "with open('dataset/default_features_1059_tracks (copy).csv', newline='') as inputfile:\n",
    "    data = list(csv.reader(inputfile))"
   ]
  },
  {
   "cell_type": "code",
   "execution_count": 44,
   "metadata": {},
   "outputs": [
    {
     "data": {
      "text/plain": [
       "(1059, 70)"
      ]
     },
     "execution_count": 44,
     "metadata": {},
     "output_type": "execute_result"
    }
   ],
   "source": [
    "data = np.asarray(data)\n",
    "data.shape"
   ]
  },
  {
   "cell_type": "code",
   "execution_count": 49,
   "metadata": {},
   "outputs": [
    {
     "name": "stdout",
     "output_type": "stream",
     "text": [
      "['7.161286' '7.835325' '2.911583' '0.984049' '-1.499546' '-2.094097'\n",
      " '0.576' '-1.205671' '1.849122' '-0.425598' '-0.105672' '1.728885'\n",
      " '1.788986' '0.849798' '-1.109353' '0.537904' '-0.115368' '5.069512'\n",
      " '6.00771' '0.820869' '0.89619' '0.131699' '0.859286' '2.059065'\n",
      " '0.266773' '1.192932' '-1.421091' '2.128661' '-1.288109' '1.458738'\n",
      " '-0.734508' '-0.092678' '-0.571314' '-0.142634' '2.748619' '3.099077'\n",
      " '0.31727' '-0.13058' '2.048282' '-0.173489' '0.324616' '-0.300817'\n",
      " '0.471089' '-0.538577' '-0.979124' '-0.679165' '0.135963' '-1.094049'\n",
      " '-0.072197' '-0.752002' '-0.660715' '1.319729' '1.094839' '-0.937659'\n",
      " '-0.895371' '-0.734962' '0.441859' '0.389178' '-0.944584' '-0.04361'\n",
      " '-1.504263' '0.351267' '-1.018726' '-0.174878' '-1.089543' '-0.66884'\n",
      " '-0.914772' '-0.83625']\n",
      "[['-15.75' '-47.95']\n",
      " ['14.91' '-23.51']\n",
      " ['12.65' '-8']\n",
      " ...\n",
      " ['41.26' '69.21']\n",
      " ['41.26' '69.21']\n",
      " ['-1.26' '36.8']]\n"
     ]
    }
   ],
   "source": [
    "X = data[:850, 0:68]\n",
    "y = data[:850, 68:70]\n",
    "print(X[0])\n",
    "print(y)"
   ]
  },
  {
   "cell_type": "code",
   "execution_count": 50,
   "metadata": {},
   "outputs": [
    {
     "name": "stdout",
     "output_type": "stream",
     "text": [
      "Prediction for Decision Tree:  9.03\n",
      "208\n",
      "43\n",
      "42\n",
      "0.20673076923076922\n",
      "0.20192307692307693\n"
     ]
    }
   ],
   "source": [
    "clf = clf.fit(X, y)\n",
    "X_test = data[851:, 0:68]\n",
    "Y_test = data[851:, 68:70]\n",
    "\n",
    "\n",
    "\n",
    "Y_prediction = clf.predict(X_test)\n",
    "\n",
    "# print(\"Prediction for Decision Tree: \",Y_prediction[0][0][:4])\n",
    "\n",
    "accu = 0\n",
    "accu1 = 0\n",
    "for i in range(0,len(Y_prediction)):\n",
    "    if((float(Y_prediction[i][0][:4]) == float(Y_test[i][0][:4]))):\n",
    "        accu=accu+1 \n",
    "    if((float(Y_prediction[i][1][:4]) == float(Y_test[i][1][:4]))):\n",
    "        accu1=accu1+1\n",
    "\n",
    "print(len(Y_test))\n",
    "print(accu)    \n",
    "print(accu1)\n",
    "print(accu/len(Y_test))\n",
    "print(accu1/len(Y_test))\n"
   ]
  },
  {
   "cell_type": "code",
   "execution_count": null,
   "metadata": {},
   "outputs": [],
   "source": []
  },
  {
   "cell_type": "code",
   "execution_count": null,
   "metadata": {},
   "outputs": [],
   "source": []
  }
 ],
 "metadata": {
  "kernelspec": {
   "display_name": "Python 3",
   "language": "python",
   "name": "python3"
  },
  "language_info": {
   "codemirror_mode": {
    "name": "ipython",
    "version": 3
   },
   "file_extension": ".py",
   "mimetype": "text/x-python",
   "name": "python",
   "nbconvert_exporter": "python",
   "pygments_lexer": "ipython3",
   "version": "3.7.3"
  }
 },
 "nbformat": 4,
 "nbformat_minor": 2
}
